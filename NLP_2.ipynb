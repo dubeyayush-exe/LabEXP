{
  "nbformat": 4,
  "nbformat_minor": 0,
  "metadata": {
    "colab": {
      "provenance": [],
      "authorship_tag": "ABX9TyPdtQC2cGAn2KuYCQojSbda",
      "include_colab_link": true
    },
    "kernelspec": {
      "name": "python3",
      "display_name": "Python 3"
    },
    "language_info": {
      "name": "python"
    }
  },
  "cells": [
    {
      "cell_type": "markdown",
      "metadata": {
        "id": "view-in-github",
        "colab_type": "text"
      },
      "source": [
        "<a href=\"https://colab.research.google.com/github/dubeyayush-exe/LabEXP/blob/Natural-Language-Processing/NLP_2.ipynb\" target=\"_parent\"><img src=\"https://colab.research.google.com/assets/colab-badge.svg\" alt=\"Open In Colab\"/></a>"
      ]
    },
    {
      "cell_type": "code",
      "execution_count": null,
      "metadata": {
        "id": "sRJ1cPtNHJ5e"
      },
      "outputs": [],
      "source": [
        "import nltk\n",
        "from nltk import word_tokenize\n",
        "from nltk.stem import PorterStemmer, WordNetLemmatizer, LancasterStemmer, RegexpStemmer, SnowballStemmer\n",
        "from nltk.corpus import stopwords"
      ]
    },
    {
      "cell_type": "code",
      "source": [
        "# Download necessary NLTK resources\n",
        "nltk.download('punkt_tab')\n",
        "nltk.download('wordnet')\n",
        "nltk.download('stopwords')\n",
        "nltk.download('omw-1.4')"
      ],
      "metadata": {
        "id": "B0ndegQjHbH0"
      },
      "execution_count": null,
      "outputs": []
    },
    {
      "cell_type": "code",
      "source": [
        "# Input text\n",
        "text = \"The quick brown foxes are jumping over the lazy dogs. They also love running in the fields.\"\n",
        "\n",
        "# Tokenize the text\n",
        "tokens = nltk.word_tokenize(text)\n",
        "\n",
        "# Initialize stemmer\n",
        "stemmer = PorterStemmer()"
      ],
      "metadata": {
        "id": "MRoQIxGWHZi1"
      },
      "execution_count": null,
      "outputs": []
    },
    {
      "cell_type": "code",
      "source": [
        "# Apply stemming\n",
        "stemmed_words = [stemmer.stem(word) for word in tokens]\n",
        "print(\"Stemmed Words:\")\n",
        "print(stemmed_words)\n",
        "print()"
      ],
      "metadata": {
        "id": "Hg-eh2prHXYL"
      },
      "execution_count": null,
      "outputs": []
    },
    {
      "cell_type": "code",
      "source": [
        "# Initialize lemmatizer\n",
        "lemmatizer = WordNetLemmatizer()"
      ],
      "metadata": {
        "id": "RlXfnheoHVcT"
      },
      "execution_count": null,
      "outputs": []
    },
    {
      "cell_type": "code",
      "source": [
        "# Apply lemmatization\n",
        "lemmatized_words = [lemmatizer.lemmatize(word) for word in tokens]\n",
        "print(\"Lemmatized Words:\")\n",
        "print(lemmatized_words)\n",
        "print()"
      ],
      "metadata": {
        "id": "pxz31ey1HT9M"
      },
      "execution_count": null,
      "outputs": []
    },
    {
      "cell_type": "code",
      "source": [
        "# Sample words for comparison of stemmers\n",
        "words = ['running', 'cats', 'fishing', 'trouble', 'connection', 'organization', 'truthful', 'probabilities']"
      ],
      "metadata": {
        "id": "VFXZrnkEHSZj"
      },
      "execution_count": null,
      "outputs": []
    },
    {
      "cell_type": "code",
      "source": [
        "# Initialize various stemmers\n",
        "porter = PorterStemmer()\n",
        "lancaster = LancasterStemmer()\n",
        "regexp = RegexpStemmer('ing$|s$|ed$', min=4)\n",
        "snowball = SnowballStemmer('english')"
      ],
      "metadata": {
        "id": "SpZQfQR2HQuc"
      },
      "execution_count": null,
      "outputs": []
    },
    {
      "cell_type": "code",
      "source": [
        "# Apply different stemmers\n",
        "porter_stemmed = [porter.stem(word) for word in words]\n",
        "lancaster_stemmed = [lancaster.stem(word) for word in words]\n",
        "regexp_stemmed = [regexp.stem(word) for word in words]\n",
        "snowball_stemmed = [snowball.stem(word) for word in words]"
      ],
      "metadata": {
        "id": "Uof9yrG4HO5y"
      },
      "execution_count": null,
      "outputs": []
    },
    {
      "cell_type": "code",
      "source": [
        "# Print results\n",
        "print(\"Porter Stemmer:\", porter_stemmed)\n",
        "print(\"Lancaster Stemmer:\", lancaster_stemmed)\n",
        "print(\"Regexp Stemmer:\", regexp_stemmed)\n",
        "print(\"Snowball Stemmer:\", snowball_stemmed)"
      ],
      "metadata": {
        "id": "_smj3uf0HMYy"
      },
      "execution_count": null,
      "outputs": []
    }
  ]
}