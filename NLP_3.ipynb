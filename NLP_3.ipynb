{
  "nbformat": 4,
  "nbformat_minor": 0,
  "metadata": {
    "colab": {
      "provenance": [],
      "authorship_tag": "ABX9TyNnz3uhQmUTCyWWnbuya+x+",
      "include_colab_link": true
    },
    "kernelspec": {
      "name": "python3",
      "display_name": "Python 3"
    },
    "language_info": {
      "name": "python"
    }
  },
  "cells": [
    {
      "cell_type": "markdown",
      "metadata": {
        "id": "view-in-github",
        "colab_type": "text"
      },
      "source": [
        "<a href=\"https://colab.research.google.com/github/dubeyayush-exe/LabEXP/blob/main/NLP_3.ipynb\" target=\"_parent\"><img src=\"https://colab.research.google.com/assets/colab-badge.svg\" alt=\"Open In Colab\"/></a>"
      ]
    },
    {
      "cell_type": "code",
      "execution_count": 1,
      "metadata": {
        "id": "l95g60NhF0gn"
      },
      "outputs": [],
      "source": [
        "import nltk\n",
        "from nltk.corpus import stopwords\n",
        "from nltk.tokenize import word_tokenize"
      ]
    },
    {
      "cell_type": "code",
      "source": [
        "# Download NLTK stopwords and punkt for tokenization\n",
        "nltk.download('stopwords')\n",
        "nltk.download('punkt')\n",
        "nltk.download('punkt_tab')"
      ],
      "metadata": {
        "colab": {
          "base_uri": "https://localhost:8080/"
        },
        "id": "Jfwzsy80GBIb",
        "outputId": "87440294-4391-4a82-b648-72034b1b9f71"
      },
      "execution_count": 2,
      "outputs": [
        {
          "output_type": "stream",
          "name": "stderr",
          "text": [
            "[nltk_data] Downloading package stopwords to /root/nltk_data...\n",
            "[nltk_data]   Unzipping corpora/stopwords.zip.\n",
            "[nltk_data] Downloading package punkt to /root/nltk_data...\n",
            "[nltk_data]   Unzipping tokenizers/punkt.zip.\n",
            "[nltk_data] Downloading package punkt_tab to /root/nltk_data...\n",
            "[nltk_data]   Unzipping tokenizers/punkt_tab.zip.\n"
          ]
        },
        {
          "output_type": "execute_result",
          "data": {
            "text/plain": [
              "True"
            ]
          },
          "metadata": {},
          "execution_count": 2
        }
      ]
    },
    {
      "cell_type": "code",
      "source": [
        "def remove_stopwords(text, language):\n",
        "    # Tokenize the input text into words\n",
        "    words = word_tokenize(text)\n",
        "\n",
        "    # Get the list of stopwords for the given language\n",
        "    stop_words = set(stopwords.words(language))\n",
        "\n",
        "    # Remove stopwords from the list of words\n",
        "    filtered_words = [word for word in words if word.lower() not in stop_words]\n",
        "\n",
        "    # Join the filtered words to form the cleaned text\n",
        "    cleaned_text = ' '.join(filtered_words)\n",
        "\n",
        "    return cleaned_text"
      ],
      "metadata": {
        "id": "pxOJThQrF_lT"
      },
      "execution_count": 3,
      "outputs": []
    },
    {
      "cell_type": "code",
      "source": [
        "# Example texts\n",
        "english_text = \"This is an example sentence in English.\"\n",
        "spanish_text = \"Este es un ejemplo de frase en español.\"\n",
        "french_text = \"Ceci est un exemple de phrase en français.\"\n",
        "german_text = \"Dies ist ein Beispiel für einen Satz in Deutsch.\"\n",
        "italian_text = \"Questo è un esempio di frase in italiano.\""
      ],
      "metadata": {
        "id": "M6EVnWi-F9Ag"
      },
      "execution_count": 4,
      "outputs": []
    },
    {
      "cell_type": "code",
      "source": [
        "# Remove stopwords from each language text\n",
        "english_result = remove_stopwords(english_text, 'english')\n",
        "spanish_result = remove_stopwords(spanish_text, 'spanish')\n",
        "french_result = remove_stopwords(french_text, 'french')\n",
        "german_result = remove_stopwords(german_text, 'german')\n",
        "italian_result = remove_stopwords(italian_text, 'italian')"
      ],
      "metadata": {
        "id": "mhR2mjF9F6hA"
      },
      "execution_count": 5,
      "outputs": []
    },
    {
      "cell_type": "code",
      "source": [
        "# Print the results\n",
        "print(\"English:\", english_result)\n",
        "print(\"Spanish:\", spanish_result)\n",
        "print(\"French:\", french_result)\n",
        "print(\"German:\", german_result)\n",
        "print(\"Italian:\", italian_result)"
      ],
      "metadata": {
        "colab": {
          "base_uri": "https://localhost:8080/"
        },
        "id": "-CFCLpKCF4XI",
        "outputId": "357ec887-ba52-45d9-e462-e858bb2ea0fd"
      },
      "execution_count": 6,
      "outputs": [
        {
          "output_type": "stream",
          "name": "stdout",
          "text": [
            "English: example sentence English .\n",
            "Spanish: ejemplo frase español .\n",
            "French: Ceci exemple phrase français .\n",
            "German: Beispiel Satz Deutsch .\n",
            "Italian: esempio frase italiano .\n"
          ]
        }
      ]
    },
    {
      "cell_type": "code",
      "source": [],
      "metadata": {
        "id": "DET6UgVZGCWT"
      },
      "execution_count": null,
      "outputs": []
    }
  ]
}